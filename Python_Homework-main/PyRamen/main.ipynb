{
 "cells": [
  {
   "cell_type": "code",
   "execution_count": 1,
   "id": "2de93096-acf2-4ec4-a8f7-b8c3f9b16467",
   "metadata": {},
   "outputs": [],
   "source": [
    "# Imports \n",
    "\n",
    "from pathlib import Path\n",
    "import csv "
   ]
  },
  {
   "cell_type": "code",
   "execution_count": 2,
   "id": "2a3712d2-93b8-4bc8-8266-9559574c4539",
   "metadata": {},
   "outputs": [],
   "source": [
    "# Paths\n",
    "\n",
    "sales_data_path = Path(\"02-Python_Homework_Instructions_PyRamen_Resources_sales_data.csv\")\n",
    "menu_data_path = Path(\"02-Python_Homework_Instructions_PyRamen_Resources_menu_data.csv\")"
   ]
  },
  {
   "cell_type": "code",
   "execution_count": 3,
   "id": "ef5f9b5a-ded0-4bee-9135-6ed96b713a4c",
   "metadata": {},
   "outputs": [],
   "source": [
    "# Variables \n",
    "\n",
    "menu_list = []\n",
    "sales_data = []\n",
    "report = {}"
   ]
  },
  {
   "cell_type": "code",
   "execution_count": 4,
   "id": "f78197a8-9561-4b1d-9273-3364e5cff862",
   "metadata": {},
   "outputs": [],
   "source": [
    "# Import Menu Data to List\n",
    "\n",
    "with open(menu_data_path, 'r') as csvreader:\n",
    "    menu_list_data = csv.reader(csvreader, delimiter = \",\")\n",
    "    header = next(csvreader)\n",
    "    for row in menu_list_data:\n",
    "        menu_list.append(row)"
   ]
  },
  {
   "cell_type": "code",
   "execution_count": 5,
   "id": "8afcc25e-6377-4d0c-b3af-35dd23381003",
   "metadata": {},
   "outputs": [],
   "source": [
    "# Import Sales Data to List\n",
    "\n",
    "with open(sales_data_path, 'r') as csvreader:\n",
    "    sales_list_data = csv.reader(csvreader, delimiter = \",\")\n",
    "    header = next(csvreader)\n",
    "    for row in sales_list_data:\n",
    "        sales_data.append(row)"
   ]
  },
  {
   "cell_type": "code",
   "execution_count": 14,
   "id": "869e5d01-d96d-4381-bd37-ae1ac1ec1c80",
   "metadata": {},
   "outputs": [],
   "source": [
    "# Loop Sales Data\n",
    "\n",
    "for number in range(0, len(sales_data)): \n",
    "    report[sales_data[number][4]] = {\n",
    "        \"01-Count: \": 0, \n",
    "        \"02-Revenue: \": 0, \n",
    "        \"03-COG: \": 0, \n",
    "        \"04-Profit: \": 0\n",
    "        }"
   ]
  },
  {
   "cell_type": "code",
   "execution_count": 16,
   "id": "0df4b990-31bf-4ad4-a2d1-6cc2076a308d",
   "metadata": {},
   "outputs": [
    {
     "data": {
      "text/plain": [
       "11"
      ]
     },
     "execution_count": 16,
     "metadata": {},
     "output_type": "execute_result"
    }
   ],
   "source": [
    "# Another Loop \n",
    "\n"
   ]
  },
  {
   "cell_type": "code",
   "execution_count": null,
   "id": "0005dac1-4fd9-4edf-9bce-a640a555c59b",
   "metadata": {},
   "outputs": [],
   "source": []
  }
 ],
 "metadata": {
  "kernelspec": {
   "display_name": "Python 3",
   "language": "python",
   "name": "python3"
  },
  "language_info": {
   "codemirror_mode": {
    "name": "ipython",
    "version": 3
   },
   "file_extension": ".py",
   "mimetype": "text/x-python",
   "name": "python",
   "nbconvert_exporter": "python",
   "pygments_lexer": "ipython3",
   "version": "3.8.5"
  }
 },
 "nbformat": 4,
 "nbformat_minor": 5
}
