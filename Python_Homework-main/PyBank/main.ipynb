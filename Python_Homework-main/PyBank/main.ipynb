{
 "cells": [
  {
   "cell_type": "code",
   "execution_count": 1,
   "id": "644346e0-9b9a-4de6-b002-f38e9dcfe7d1",
   "metadata": {},
   "outputs": [],
   "source": [
    "# PyBank Assignment"
   ]
  },
  {
   "cell_type": "code",
   "execution_count": 2,
   "id": "c72c876d-97b2-4505-97a9-d10c15375742",
   "metadata": {},
   "outputs": [],
   "source": [
    "# Imports\n",
    "\n",
    "from pathlib import Path\n",
    "import csv "
   ]
  },
  {
   "cell_type": "code",
   "execution_count": 3,
   "id": "17822eaf-2563-4a9a-a32f-67ae0d039ab1",
   "metadata": {},
   "outputs": [],
   "source": [
    "# File Path \n",
    "\n",
    "csvpath = Path('02-Python_Homework_Instructions_PyBank_Resources_budget_data.csv')"
   ]
  },
  {
   "cell_type": "code",
   "execution_count": 4,
   "id": "a1c16363-f02d-48f1-aba0-cdf1c64d9229",
   "metadata": {},
   "outputs": [],
   "source": [
    "# Decleare and Initialize Variables\n",
    "\n",
    "profit_losses = []\n",
    "dates = [] \n",
    "\n",
    "profit_increase = 0\n",
    "profit_decrease = 0\n",
    "\n",
    "delta_increase = 0 \n",
    "delta_decrease = 0\n",
    "\n",
    "average_change = 0\n",
    "\n",
    "total_months = 0\n",
    "total_net = 0 \n",
    "total_monthly_change = 0"
   ]
  },
  {
   "cell_type": "code",
   "execution_count": 5,
   "id": "b74234bf-af4d-461f-ac36-7ea5202632d3",
   "metadata": {},
   "outputs": [],
   "source": [
    "# Export Data from CSV File into Lists\n",
    "\n",
    "with open(csvpath, 'r') as csvreader:\n",
    "    budget_data = csv.reader(csvreader, delimiter = \",\")\n",
    "    header = next(csvreader)\n",
    "    for row in budget_data: \n",
    "        pnl = row[0]\n",
    "        dates.append(pnl)\n",
    "        pnl = int(row[1])\n",
    "        profit_losses.append(pnl)"
   ]
  },
  {
   "cell_type": "code",
   "execution_count": 6,
   "id": "be506799-a087-47a9-8e43-a6b32721980a",
   "metadata": {},
   "outputs": [],
   "source": [
    "# Total Net and Total Months \n",
    "\n",
    "for value in profit_losses: \n",
    "    total_net += value\n",
    "    total_months += 1"
   ]
  },
  {
   "cell_type": "code",
   "execution_count": 7,
   "id": "557974cf-ce85-4d1d-889a-a4be4c5e83d2",
   "metadata": {},
   "outputs": [],
   "source": [
    "# Greatest Increase \n",
    "\n",
    "previous_value_increase = 0\n",
    "month_value_increase = 0\n",
    "\n",
    "for value in profit_losses:\n",
    "    delta_increase = value - previous_value_increase\n",
    "    if delta_increase > profit_increase:\n",
    "        profit_increase = delta_increase\n",
    "        month_value_increase = value\n",
    "    previous_value_increase = value\n",
    "\n",
    "index_increase = profit_losses.index(month_value_increase)\n",
    "date_increase = dates[index_increase]"
   ]
  },
  {
   "cell_type": "code",
   "execution_count": 8,
   "id": "8cca8955-962d-47c6-ab39-3b8c793d9bd3",
   "metadata": {},
   "outputs": [],
   "source": [
    "# Greatest Decrease \n",
    "\n",
    "previous_value_decrease = 0\n",
    "month_value_decrease = 0\n",
    "\n",
    "for value in profit_losses:\n",
    "    delta_decrease = value - previous_value_decrease\n",
    "    if delta_decrease < profit_decrease:\n",
    "        profit_decrease = delta_decrease\n",
    "        month_value_decrease = value\n",
    "    previous_value_decrease = value\n",
    "\n",
    "index_decrease = profit_losses.index(month_value_decrease)\n",
    "date_decrease = dates[index_decrease]"
   ]
  },
  {
   "cell_type": "code",
   "execution_count": 9,
   "id": "75f1db20-f9af-414a-b83f-c6d67aa3d8bf",
   "metadata": {},
   "outputs": [],
   "source": [
    "# Average Monthly Change List\n",
    "\n",
    "amc_list = []\n",
    "previous_value_avg = 0\n",
    "\n",
    "for value in profit_losses: \n",
    "    delta = value - previous_value_avg\n",
    "    previous_value_avg = value\n",
    "    amc_list.append(delta)\n",
    "remove = amc_list.pop(0)"
   ]
  },
  {
   "cell_type": "code",
   "execution_count": 10,
   "id": "372553df-f48d-4621-b425-0e1958f7d505",
   "metadata": {},
   "outputs": [],
   "source": [
    "# Average Monthly Change \n",
    "\n",
    "counter = 0\n",
    "\n",
    "for value in amc_list:\n",
    "    total_monthly_change += value\n",
    "    counter += 1\n",
    "avg_monthly_change = round(total_monthly_change / counter, 2)"
   ]
  },
  {
   "cell_type": "code",
   "execution_count": 11,
   "id": "1b6932d2-92cb-4bf7-be88-12bdbdf44b0c",
   "metadata": {},
   "outputs": [
    {
     "name": "stdout",
     "output_type": "stream",
     "text": [
      "Financial Analysis\n",
      "Total Months: 86\n",
      "Total: $38382578\n",
      "Average Change: $-2315.12\n",
      "Greatest Increase in Profits: Feb-2012 ($1926159)\n",
      "Greatest Decrease in Profits: Sep-2013 ($-2196167)\n"
     ]
    }
   ],
   "source": [
    "# Print Financial Analysis \n",
    "\n",
    "print(f\"Financial Analysis\")\n",
    "print(f\"Total Months: {total_months}\")\n",
    "print(f\"Total: ${total_net}\")\n",
    "print(f\"Average Change: ${avg_monthly_change}\")\n",
    "print(f\"Greatest Increase in Profits: {date_increase} (${profit_increase})\")\n",
    "print(f\"Greatest Decrease in Profits: {date_decrease} (${profit_decrease})\")"
   ]
  },
  {
   "cell_type": "code",
   "execution_count": 12,
   "id": "c72debd9-abea-4064-92cc-83aac692a702",
   "metadata": {},
   "outputs": [],
   "source": [
    "# Export Results to a Text File \n",
    "\n",
    "file1 = open(\"Financial_Analysis.txt\", \"a\")\n",
    "file1.write(f\"Financial Analysis\")\n",
    "file1.write(\"\\n\")\n",
    "file1.write(f\"Total Months: {total_months}\")\n",
    "file1.write(\"\\n\")\n",
    "file1.write(f\"Total: ${total_net}\")\n",
    "file1.write(\"\\n\")\n",
    "file1.write(f\"Average Change: ${avg_monthly_change}\")\n",
    "file1.write(\"\\n\")\n",
    "file1.write(f\"Greatest Increase in Profits: {date_increase} (${profit_increase})\")\n",
    "file1.write(\"\\n\")\n",
    "file1.write(f\"Greatest Decrease in Profits: {date_decrease} (${profit_decrease})\")\n",
    "file1.write(\"\\n\")\n",
    "file1.close()"
   ]
  },
  {
   "cell_type": "code",
   "execution_count": null,
   "id": "7107a8c1-2fb6-4845-a814-fe3d08b31adb",
   "metadata": {},
   "outputs": [],
   "source": []
  }
 ],
 "metadata": {
  "kernelspec": {
   "display_name": "Python 3",
   "language": "python",
   "name": "python3"
  },
  "language_info": {
   "codemirror_mode": {
    "name": "ipython",
    "version": 3
   },
   "file_extension": ".py",
   "mimetype": "text/x-python",
   "name": "python",
   "nbconvert_exporter": "python",
   "pygments_lexer": "ipython3",
   "version": "3.8.5"
  }
 },
 "nbformat": 4,
 "nbformat_minor": 5
}
